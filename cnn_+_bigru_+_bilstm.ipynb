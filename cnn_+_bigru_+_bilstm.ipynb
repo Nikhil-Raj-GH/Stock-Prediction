{
  "nbformat": 4,
  "nbformat_minor": 0,
  "metadata": {
    "colab": {
      "provenance": []
    },
    "kernelspec": {
      "name": "python3",
      "display_name": "Python 3"
    },
    "language_info": {
      "name": "python"
    }
  },
  "cells": [
    {
      "cell_type": "markdown",
      "source": [
        "**Import Libraries**"
      ],
      "metadata": {
        "id": "H-vnL4oy9BQP"
      }
    },
    {
      "cell_type": "code",
      "source": [
        "import pandas as pd\n",
        "import numpy as np\n",
        "from sklearn.model_selection import train_test_split\n",
        "from keras.models import Sequential\n",
        "from sklearn import preprocessing\n",
        "from keras.layers import Conv1D, Dense, Flatten, MaxPooling1D, Bidirectional, GRU, LSTM\n",
        "import matplotlib.pyplot as plt\n",
        "from keras.callbacks import EarlyStopping"
      ],
      "metadata": {
        "id": "6pEB16gO90kZ"
      },
      "execution_count": null,
      "outputs": []
    },
    {
      "cell_type": "markdown",
      "source": [
        "**Import Dataset**"
      ],
      "metadata": {
        "id": "m6n_sZ-d9Goe"
      }
    },
    {
      "cell_type": "code",
      "source": [
        "# Load the dataset\n",
        "stock = pd.read_csv('/content/CIPLA.csv')"
      ],
      "metadata": {
        "id": "EyzJKxEF9086"
      },
      "execution_count": null,
      "outputs": []
    },
    {
      "cell_type": "markdown",
      "source": [
        "**Data Preprocessing**"
      ],
      "metadata": {
        "id": "Ez8-VR5D9Lop"
      }
    },
    {
      "cell_type": "code",
      "source": [
        "stock = stock.drop(['Symbol', 'Series', 'Prev Close', 'VWAP', 'Turnover', 'Trades', 'Deliverable Volume', '%Deliverble'], axis=1)"
      ],
      "metadata": {
        "id": "6wZ48u3FVRan"
      },
      "execution_count": null,
      "outputs": []
    },
    {
      "cell_type": "code",
      "source": [
        "# Data preprocessing\n",
        "window_size = 50\n",
        "X = []\n",
        "Y = []\n",
        "\n",
        "for i in range(len(stock) - window_size - 1):\n",
        "    first = stock.iloc[i, 5]\n",
        "    temp = [(stock.iloc[i + j, 5] - first) / first for j in range(window_size)]\n",
        "    temp2 = [(stock.iloc[i + window_size, 5] - first) / first]\n",
        "    X.append(temp)\n",
        "    Y.append(temp2)"
      ],
      "metadata": {
        "id": "PQt7z-mL91aB"
      },
      "execution_count": null,
      "outputs": []
    },
    {
      "cell_type": "markdown",
      "source": [
        "**Train-test split**"
      ],
      "metadata": {
        "id": "KbWcSa9L9cph"
      }
    },
    {
      "cell_type": "code",
      "source": [
        "# Train-test split\n",
        "train_X, test_X, train_label, test_label = train_test_split(X, Y, test_size=0.2, shuffle=False)\n",
        "len_t = len(train_X)"
      ],
      "metadata": {
        "id": "EqxsyoLI911p"
      },
      "execution_count": null,
      "outputs": []
    },
    {
      "cell_type": "markdown",
      "source": [
        "**Convert to numpy arrays**"
      ],
      "metadata": {
        "id": "-MAf-Bn99gbz"
      }
    },
    {
      "cell_type": "code",
      "source": [
        "# Convert to numpy arrays\n",
        "train_X = np.array(train_X).reshape(len(train_X), 50, 1)\n",
        "test_X = np.array(test_X).reshape(len(test_X), 50, 1)\n",
        "train_label = np.array(train_label)\n",
        "test_label = np.array(test_label)"
      ],
      "metadata": {
        "id": "9sMLjXaN92V6"
      },
      "execution_count": null,
      "outputs": []
    },
    {
      "cell_type": "markdown",
      "source": [
        "**Model Building**"
      ],
      "metadata": {
        "id": "76xlaYqi-IXY"
      }
    },
    {
      "cell_type": "code",
      "source": [
        "from keras.layers import Dropout\n",
        "# Model building\n",
        "model = Sequential()\n",
        "model.add(Conv1D(filters=64, kernel_size=3, activation='relu', input_shape=(window_size, 1)))\n",
        "model.add(MaxPooling1D(pool_size=2))\n",
        "model.add(Dropout(0.25))\n",
        "model.add(Bidirectional(GRU(50, return_sequences=True)))\n",
        "model.add(Dropout(0.25))\n",
        "model.add(Bidirectional(LSTM(50)))\n",
        "model.add(Dropout(0.25))\n",
        "model.add(Flatten())\n",
        "model.add(Dense(1))\n",
        "\n",
        "# model summary\n",
        "model.summary()"
      ],
      "metadata": {
        "colab": {
          "base_uri": "https://localhost:8080/"
        },
        "id": "3FuWtFLC-Le5",
        "outputId": "2024713e-9a2b-411a-9035-2aa1f85d7c8a"
      },
      "execution_count": null,
      "outputs": [
        {
          "output_type": "stream",
          "name": "stdout",
          "text": [
            "Model: \"sequential\"\n",
            "_________________________________________________________________\n",
            " Layer (type)                Output Shape              Param #   \n",
            "=================================================================\n",
            " conv1d (Conv1D)             (None, 48, 64)            256       \n",
            "                                                                 \n",
            " max_pooling1d (MaxPooling1  (None, 24, 64)            0         \n",
            " D)                                                              \n",
            "                                                                 \n",
            " dropout (Dropout)           (None, 24, 64)            0         \n",
            "                                                                 \n",
            " bidirectional (Bidirection  (None, 24, 100)           34800     \n",
            " al)                                                             \n",
            "                                                                 \n",
            " dropout_1 (Dropout)         (None, 24, 100)           0         \n",
            "                                                                 \n",
            " bidirectional_1 (Bidirecti  (None, 100)               60400     \n",
            " onal)                                                           \n",
            "                                                                 \n",
            " dropout_2 (Dropout)         (None, 100)               0         \n",
            "                                                                 \n",
            " flatten (Flatten)           (None, 100)               0         \n",
            "                                                                 \n",
            " dense (Dense)               (None, 1)                 101       \n",
            "                                                                 \n",
            "=================================================================\n",
            "Total params: 95557 (373.27 KB)\n",
            "Trainable params: 95557 (373.27 KB)\n",
            "Non-trainable params: 0 (0.00 Byte)\n",
            "_________________________________________________________________\n"
          ]
        }
      ]
    },
    {
      "cell_type": "markdown",
      "source": [
        "**Compile the model**"
      ],
      "metadata": {
        "id": "gD_dHheb9kA6"
      }
    },
    {
      "cell_type": "code",
      "source": [
        "# Compile the model\n",
        "model.compile(optimizer='RMSprop', loss='mse')"
      ],
      "metadata": {
        "id": "gBOtjc0A927a"
      },
      "execution_count": null,
      "outputs": []
    },
    {
      "cell_type": "markdown",
      "source": [
        "**Model Training and Evaluation**"
      ],
      "metadata": {
        "id": "6y3j1G4e9rWj"
      }
    },
    {
      "cell_type": "code",
      "source": [
        "# Model training\n",
        "history = model.fit(train_X, train_label, validation_data=(test_X, test_label), epochs=20, batch_size=64, shuffle=False)\n",
        "\n",
        "# Model evaluation\n",
        "loss = model.evaluate(test_X, test_label)\n",
        "print(\"Test Loss:\", loss)"
      ],
      "metadata": {
        "colab": {
          "base_uri": "https://localhost:8080/"
        },
        "id": "Fu2-Ycre93SJ",
        "outputId": "27f5ca53-9ea6-463b-ce82-71235293a202"
      },
      "execution_count": null,
      "outputs": [
        {
          "output_type": "stream",
          "name": "stdout",
          "text": [
            "Epoch 1/20\n",
            "75/75 [==============================] - 9s 55ms/step - loss: 0.0103 - val_loss: 0.0029\n",
            "Epoch 2/20\n",
            "75/75 [==============================] - 3s 38ms/step - loss: 0.0052 - val_loss: 0.0021\n",
            "Epoch 3/20\n",
            "75/75 [==============================] - 4s 50ms/step - loss: 0.0044 - val_loss: 0.0016\n",
            "Epoch 4/20\n",
            "75/75 [==============================] - 3s 45ms/step - loss: 0.0038 - val_loss: 0.0014\n",
            "Epoch 5/20\n",
            "75/75 [==============================] - 3s 37ms/step - loss: 0.0033 - val_loss: 0.0013\n",
            "Epoch 6/20\n",
            "75/75 [==============================] - 3s 37ms/step - loss: 0.0032 - val_loss: 0.0012\n",
            "Epoch 7/20\n",
            "75/75 [==============================] - 3s 42ms/step - loss: 0.0029 - val_loss: 0.0012\n",
            "Epoch 8/20\n",
            "75/75 [==============================] - 3s 39ms/step - loss: 0.0029 - val_loss: 0.0010\n",
            "Epoch 9/20\n",
            "75/75 [==============================] - 3s 38ms/step - loss: 0.0028 - val_loss: 9.8433e-04\n",
            "Epoch 10/20\n",
            "75/75 [==============================] - 3s 38ms/step - loss: 0.0028 - val_loss: 9.4218e-04\n",
            "Epoch 11/20\n",
            "75/75 [==============================] - 4s 49ms/step - loss: 0.0026 - val_loss: 8.8831e-04\n",
            "Epoch 12/20\n",
            "75/75 [==============================] - 5s 62ms/step - loss: 0.0025 - val_loss: 9.0992e-04\n",
            "Epoch 13/20\n",
            "75/75 [==============================] - 4s 50ms/step - loss: 0.0026 - val_loss: 9.2613e-04\n",
            "Epoch 14/20\n",
            "75/75 [==============================] - 3s 46ms/step - loss: 0.0024 - val_loss: 8.6124e-04\n",
            "Epoch 15/20\n",
            "75/75 [==============================] - 3s 38ms/step - loss: 0.0023 - val_loss: 8.1402e-04\n",
            "Epoch 16/20\n",
            "75/75 [==============================] - 3s 38ms/step - loss: 0.0022 - val_loss: 8.0383e-04\n",
            "Epoch 17/20\n",
            "75/75 [==============================] - 3s 37ms/step - loss: 0.0024 - val_loss: 7.5299e-04\n",
            "Epoch 18/20\n",
            "75/75 [==============================] - 3s 45ms/step - loss: 0.0021 - val_loss: 7.6105e-04\n",
            "Epoch 19/20\n",
            "75/75 [==============================] - 3s 38ms/step - loss: 0.0020 - val_loss: 7.6737e-04\n",
            "Epoch 20/20\n",
            "75/75 [==============================] - 3s 38ms/step - loss: 0.0019 - val_loss: 7.2078e-04\n",
            "38/38 [==============================] - 0s 8ms/step - loss: 7.2078e-04\n",
            "Test Loss: 0.000720775977242738\n"
          ]
        }
      ]
    },
    {
      "cell_type": "markdown",
      "source": [
        "**Predicting**"
      ],
      "metadata": {
        "id": "dvWkU-NQ9vUZ"
      }
    },
    {
      "cell_type": "code",
      "execution_count": null,
      "metadata": {
        "colab": {
          "base_uri": "https://localhost:8080/"
        },
        "id": "9RRhr3_r5iE_",
        "outputId": "65f9a6ea-7a85-48e8-a76a-e5b094a01995"
      },
      "outputs": [
        {
          "output_type": "stream",
          "name": "stdout",
          "text": [
            "38/38 [==============================] - 1s 7ms/step\n"
          ]
        }
      ],
      "source": [
        "# Plotting\n",
        "predicted = model.predict(test_X)\n",
        "predicted = np.array(predicted[:, 0]).reshape(-1, 1)\n",
        "test_label = np.array(test_label[:, 0]).reshape(-1, 1)\n",
        "\n",
        "for j in range(len_t, len_t + len(test_X)):\n",
        "    temp = stock.iloc[j, 4]\n",
        "    test_label[j - len_t] = test_label[j - len_t] * temp + temp\n",
        "    predicted[j - len_t] = predicted[j - len_t] * temp + temp"
      ]
    },
    {
      "cell_type": "markdown",
      "source": [
        "**Plotting**"
      ],
      "metadata": {
        "id": "uNcdZxYsV18P"
      }
    },
    {
      "cell_type": "code",
      "source": [
        "plt.plot(test_label, color = 'red', label = ' Stock Price')\n",
        "plt.plot(predicted, color = 'cyan', label = 'Predicted  Stock Price', linestyle='dashed', linewidth=2)\n",
        "plt.title(' Stock Price Prediction')\n",
        "plt.xlabel('Time')\n",
        "plt.ylabel(' Stock Price')\n",
        "plt.legend()\n",
        "plt.show()"
      ],
      "metadata": {
        "colab": {
          "base_uri": "https://localhost:8080/",
          "height": 472
        },
        "id": "Sx6AeaROVzUa",
        "outputId": "c10bdfd7-1ae5-4729-aeeb-b37a2c544082"
      },
      "execution_count": null,
      "outputs": [
        {
          "output_type": "display_data",
          "data": {
            "text/plain": [
              "<Figure size 640x480 with 1 Axes>"
            ],
            "image/png": "[encoded data removed]"
          },
          "metadata": {}
        }
      ]
    },
    {
      "cell_type": "markdown",
      "source": [
        "**Metrics**"
      ],
      "metadata": {
        "id": "LTHFed7s8_fK"
      }
    },
    {
      "cell_type": "code",
      "source": [
        "from sklearn.metrics import mean_squared_error, mean_absolute_error\n",
        "\n",
        "# Calculate MSE\n",
        "mse = mean_squared_error(test_label, predicted)\n",
        "print(\"Mean Squared Error (MSE):\", mse)\n",
        "# Calculate MAE\n",
        "mae = mean_absolute_error(test_label, predicted)\n",
        "print(\"Mean Absolute Error (MAE):\", mae)\n",
        "# Calculate RMSE\n",
        "rmse = np.sqrt(mse)\n",
        "print(\"Root Mean Squared Error (RMSE):\", rmse)\n",
        "def mean_absolute_percentage_error(y_true, y_pred):\n",
        "    y_true, y_pred = np.array(y_true), np.array(y_pred)\n",
        "    return np.mean(np.abs((y_true - y_pred) / y_true)) * 100\n",
        "# Calculate MAPE\n",
        "mape = mean_absolute_percentage_error(test_label, predicted)\n",
        "print(\"Mean Absolute Percentage Error (MAPE):\", mape)"
      ],
      "metadata": {
        "colab": {
          "base_uri": "https://localhost:8080/"
        },
        "id": "9hZkGezT564V",
        "outputId": "beb31f5a-58aa-4ef8-af9d-6c56af1afdfa"
      },
      "execution_count": null,
      "outputs": [
        {
          "output_type": "stream",
          "name": "stdout",
          "text": [
            "Mean Squared Error (MSE): 11116.650179741016\n",
            "Mean Absolute Error (MAE): 81.29961772523949\n",
            "Root Mean Squared Error (RMSE): 105.4355261747245\n",
            "Mean Absolute Percentage Error (MAPE): 9.528291162838439\n"
          ]
        }
      ]
    }
  ]
}