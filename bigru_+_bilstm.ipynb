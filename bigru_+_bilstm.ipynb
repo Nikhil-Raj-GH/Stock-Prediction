{
  "nbformat": 4,
  "nbformat_minor": 0,
  "metadata": {
    "colab": {
      "provenance": [],
      "gpuType": "T4"
    },
    "kernelspec": {
      "name": "python3",
      "display_name": "Python 3"
    },
    "language_info": {
      "name": "python"
    },
    "accelerator": "GPU"
  },
  "cells": [
    {
      "cell_type": "markdown",
      "source": [
        "**Import Libraries**"
      ],
      "metadata": {
        "id": "H-vnL4oy9BQP"
      }
    },
    {
      "cell_type": "code",
      "source": [
        "import pandas as pd\n",
        "import numpy as np\n",
        "from sklearn.model_selection import train_test_split\n",
        "from keras.models import Sequential\n",
        "from keras.layers import Bidirectional, GRU, LSTM, Dense\n",
        "from keras.callbacks import EarlyStopping\n",
        "import matplotlib.pyplot as plt"
      ],
      "metadata": {
        "id": "6pEB16gO90kZ"
      },
      "execution_count": 1,
      "outputs": []
    },
    {
      "cell_type": "markdown",
      "source": [
        "**Import Dataset**"
      ],
      "metadata": {
        "id": "m6n_sZ-d9Goe"
      }
    },
    {
      "cell_type": "code",
      "source": [
        "# Load the dataset\n",
        "stock = pd.read_csv('/content/CIPLA.csv')"
      ],
      "metadata": {
        "id": "EyzJKxEF9086"
      },
      "execution_count": 2,
      "outputs": []
    },
    {
      "cell_type": "markdown",
      "source": [
        "**Data Preprocessing**"
      ],
      "metadata": {
        "id": "Ez8-VR5D9Lop"
      }
    },
    {
      "cell_type": "code",
      "source": [
        "stock = stock.drop(['Symbol', 'Series', 'Prev Close', 'VWAP', 'Turnover', 'Trades', 'Deliverable Volume', '%Deliverble'], axis=1)\n",
        "\n",
        "# Data preprocessing\n",
        "window_size = 50\n",
        "X = []\n",
        "Y = []\n",
        "\n",
        "for i in range(len(stock) - window_size - 1):\n",
        "    first = stock.iloc[i, 5]\n",
        "    temp = [(stock.iloc[i + j, 5] - first) / first for j in range(window_size)]\n",
        "    temp2 = [(stock.iloc[i + window_size, 5] - first) / first]\n",
        "    X.append(temp)\n",
        "    Y.append(temp2)"
      ],
      "metadata": {
        "id": "PQt7z-mL91aB"
      },
      "execution_count": 3,
      "outputs": []
    },
    {
      "cell_type": "markdown",
      "source": [
        "**Train-test split**"
      ],
      "metadata": {
        "id": "KbWcSa9L9cph"
      }
    },
    {
      "cell_type": "code",
      "source": [
        "# Train-test split\n",
        "train_X, test_X, train_label, test_label = train_test_split(X, Y, test_size=0.2, shuffle=False)\n",
        "len_t = len(train_X)"
      ],
      "metadata": {
        "id": "EqxsyoLI911p"
      },
      "execution_count": 4,
      "outputs": []
    },
    {
      "cell_type": "markdown",
      "source": [
        "**Convert to numpy arrays**"
      ],
      "metadata": {
        "id": "-MAf-Bn99gbz"
      }
    },
    {
      "cell_type": "code",
      "source": [
        "# Convert to numpy arrays\n",
        "train_X = np.array(train_X).reshape(len(train_X), 50, 1)\n",
        "test_X = np.array(test_X).reshape(len(test_X), 50, 1)\n",
        "train_label = np.array(train_label)\n",
        "test_label = np.array(test_label)"
      ],
      "metadata": {
        "id": "9sMLjXaN92V6"
      },
      "execution_count": 5,
      "outputs": []
    },
    {
      "cell_type": "markdown",
      "source": [
        "**Model Building**"
      ],
      "metadata": {
        "id": "76xlaYqi-IXY"
      }
    },
    {
      "cell_type": "code",
      "source": [
        "from keras.layers import Dropout\n",
        "\n",
        "# Model building\n",
        "model = Sequential()\n",
        "model.add(Bidirectional(GRU(200, return_sequences=True), input_shape=(window_size, 1)))\n",
        "model.add(Dropout(0.25))  # Add dropout layer\n",
        "model.add(Bidirectional(LSTM(200)))\n",
        "model.add(Dropout(0.25))  # Add dropout layer\n",
        "model.add(Dense(1, activation='linear'))\n",
        "\n",
        "# model summary\n",
        "model.summary()"
      ],
      "metadata": {
        "id": "giCI53EXUkwr",
        "colab": {
          "base_uri": "https://localhost:8080/"
        },
        "outputId": "81877cd2-ef4e-45e8-c617-14af06290b4c"
      },
      "execution_count": 6,
      "outputs": [
        {
          "output_type": "stream",
          "name": "stdout",
          "text": [
            "Model: \"sequential\"\n",
            "_________________________________________________________________\n",
            " Layer (type)                Output Shape              Param #   \n",
            "=================================================================\n",
            " bidirectional (Bidirection  (None, 50, 400)           243600    \n",
            " al)                                                             \n",
            "                                                                 \n",
            " dropout (Dropout)           (None, 50, 400)           0         \n",
            "                                                                 \n",
            " bidirectional_1 (Bidirecti  (None, 400)               961600    \n",
            " onal)                                                           \n",
            "                                                                 \n",
            " dropout_1 (Dropout)         (None, 400)               0         \n",
            "                                                                 \n",
            " dense (Dense)               (None, 1)                 401       \n",
            "                                                                 \n",
            "=================================================================\n",
            "Total params: 1205601 (4.60 MB)\n",
            "Trainable params: 1205601 (4.60 MB)\n",
            "Non-trainable params: 0 (0.00 Byte)\n",
            "_________________________________________________________________\n"
          ]
        }
      ]
    },
    {
      "cell_type": "markdown",
      "source": [
        "**Compile the model**"
      ],
      "metadata": {
        "id": "r3JTM9kD8zkv"
      }
    },
    {
      "cell_type": "code",
      "source": [
        "# Compile the model\n",
        "model.compile(optimizer='RMSprop', loss='mse')"
      ],
      "metadata": {
        "id": "m_Jfn65k8zkv"
      },
      "execution_count": 7,
      "outputs": []
    },
    {
      "cell_type": "markdown",
      "source": [
        "**Defining the EarlyStopping callback**"
      ],
      "metadata": {
        "id": "d4szPRyA8zkw"
      }
    },
    {
      "cell_type": "code",
      "source": [
        "# Define the EarlyStopping callback\n",
        "early_stopping = EarlyStopping(monitor='val_loss', patience=3, verbose=1)"
      ],
      "metadata": {
        "id": "tL-IzFOQ8zkw"
      },
      "execution_count": 8,
      "outputs": []
    },
    {
      "cell_type": "markdown",
      "source": [
        "**Model Training and Evaluation**"
      ],
      "metadata": {
        "id": "MWAsX6Eu8zkw"
      }
    },
    {
      "cell_type": "code",
      "source": [
        "# Model training\n",
        "model.fit(train_X, train_label, validation_data=(test_X, test_label), epochs=20, batch_size=64, shuffle=False, callbacks=[early_stopping])\n",
        "\n",
        "# Model evaluation\n",
        "loss = model.evaluate(test_X, test_label)\n",
        "print(\"Test Loss:\", loss)"
      ],
      "metadata": {
        "colab": {
          "base_uri": "https://localhost:8080/"
        },
        "outputId": "c8edc117-8408-4f1f-c4bd-efe94ee8468c",
        "id": "_m-uKsHJ8zkx"
      },
      "execution_count": 9,
      "outputs": [
        {
          "output_type": "stream",
          "name": "stdout",
          "text": [
            "Epoch 1/20\n",
            "75/75 [==============================] - 12s 60ms/step - loss: 0.0057 - val_loss: 0.0012\n",
            "Epoch 2/20\n",
            "75/75 [==============================] - 2s 25ms/step - loss: 0.0025 - val_loss: 8.5702e-04\n",
            "Epoch 3/20\n",
            "75/75 [==============================] - 2s 27ms/step - loss: 0.0020 - val_loss: 0.0010\n",
            "Epoch 4/20\n",
            "75/75 [==============================] - 2s 23ms/step - loss: 0.0018 - val_loss: 8.8043e-04\n",
            "Epoch 5/20\n",
            "75/75 [==============================] - 2s 27ms/step - loss: 0.0017 - val_loss: 9.3075e-04\n",
            "Epoch 5: early stopping\n",
            "38/38 [==============================] - 1s 14ms/step - loss: 9.3075e-04\n",
            "Test Loss: 0.0009307465516030788\n"
          ]
        }
      ]
    },
    {
      "cell_type": "markdown",
      "source": [
        "**Plotting**"
      ],
      "metadata": {
        "id": "0gTnTmgl8zkx"
      }
    },
    {
      "cell_type": "code",
      "source": [
        "predicted = model.predict(test_X)\n",
        "predicted = np.array(predicted[:, 0]).reshape(-1, 1)\n",
        "test_label = np.array(test_label[:, 0]).reshape(-1, 1)\n",
        "\n",
        "for j in range(len_t, len_t + len(test_X)):\n",
        "    temp = stock.iloc[j, 4]\n",
        "    test_label[j - len_t] = test_label[j - len_t] * temp + temp\n",
        "    predicted[j - len_t] = predicted[j - len_t] * temp + temp"
      ],
      "metadata": {
        "colab": {
          "base_uri": "https://localhost:8080/"
        },
        "id": "5TfBI8CSejCH",
        "outputId": "3836fb0d-9b31-46eb-9506-2577c764ce71"
      },
      "execution_count": 10,
      "outputs": [
        {
          "output_type": "stream",
          "name": "stdout",
          "text": [
            "38/38 [==============================] - 1s 6ms/step\n"
          ]
        }
      ]
    },
    {
      "cell_type": "code",
      "execution_count": 13,
      "metadata": {
        "colab": {
          "base_uri": "https://localhost:8080/",
          "height": 472
        },
        "outputId": "bb42ddca-599e-4bf7-d0bd-a6ea3fa0de87",
        "id": "6vrV-l1h8zky"
      },
      "outputs": [
        {
          "output_type": "display_data",
          "data": {
            "text/plain": [
              "<Figure size 640x480 with 1 Axes>"
            ],
            "image/png": "[encoded data removed]"
          },
          "metadata": {}
        }
      ],
      "source": [
        "# Plotting\n",
        "plt.plot(test_label, color = 'red', label = ' Stock Price')\n",
        "plt.plot(predicted, color = 'cyan', label = 'Predicted  Stock Price', linestyle='dashed', linewidth=2)\n",
        "plt.title(' Stock Price Prediction')\n",
        "plt.xlabel('Time')\n",
        "plt.ylabel(' Stock Price')\n",
        "plt.legend()\n",
        "plt.show()"
      ]
    },
    {
      "cell_type": "markdown",
      "source": [
        "**Metrics**"
      ],
      "metadata": {
        "id": "po2tOMv-8zky"
      }
    },
    {
      "cell_type": "code",
      "source": [
        "from sklearn.metrics import mean_squared_error, mean_absolute_error\n",
        "\n",
        "# Calculate MSE\n",
        "mse = mean_squared_error(test_label, predicted)\n",
        "print(\"Mean Squared Error (MSE):\", mse)\n",
        "# Calculate MAE\n",
        "mae = mean_absolute_error(test_label, predicted)\n",
        "print(\"Mean Absolute Error (MAE):\", mae)\n",
        "# Calculate RMSE\n",
        "rmse = np.sqrt(mse)\n",
        "print(\"Root Mean Squared Error (RMSE):\", rmse)\n",
        "def mean_absolute_percentage_error(y_true, y_pred):\n",
        "    y_true, y_pred = np.array(y_true), np.array(y_pred)\n",
        "    return np.mean(np.abs((y_true - y_pred) / y_true)) * 100\n",
        "# Calculate MAPE\n",
        "mape = mean_absolute_percentage_error(test_label, predicted)\n",
        "print(\"Mean Absolute Percentage Error (MAPE):\", mape)"
      ],
      "metadata": {
        "colab": {
          "base_uri": "https://localhost:8080/"
        },
        "outputId": "f7b80be8-8b35-40ea-ef8a-535d94d2048e",
        "id": "vFR0Z9cS8zky"
      },
      "execution_count": 12,
      "outputs": [
        {
          "output_type": "stream",
          "name": "stdout",
          "text": [
            "Mean Squared Error (MSE): 588.4406217192657\n",
            "Mean Absolute Error (MAE): 18.584076820089216\n",
            "Root Mean Squared Error (RMSE): 24.257795071260407\n",
            "Mean Absolute Percentage Error (MAPE): 2.120765454794126\n"
          ]
        }
      ]
    }
  ]
}