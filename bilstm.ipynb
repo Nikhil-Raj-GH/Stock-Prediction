{
  "nbformat": 4,
  "nbformat_minor": 0,
  "metadata": {
    "colab": {
      "provenance": []
    },
    "kernelspec": {
      "name": "python3",
      "display_name": "Python 3"
    },
    "language_info": {
      "name": "python"
    }
  },
  "cells": [
    {
      "cell_type": "markdown",
      "source": [
        "**Import Libraries**"
      ],
      "metadata": {
        "id": "H-vnL4oy9BQP"
      }
    },
    {
      "cell_type": "code",
      "source": [
        "import pandas as pd\n",
        "import numpy as np\n",
        "from sklearn.model_selection import train_test_split\n",
        "from keras.models import Sequential\n",
        "from keras.layers import LSTM, Dense, Bidirectional\n",
        "from keras.callbacks import EarlyStopping\n",
        "import matplotlib.pyplot as plt"
      ],
      "metadata": {
        "id": "6pEB16gO90kZ"
      },
      "execution_count": null,
      "outputs": []
    },
    {
      "cell_type": "markdown",
      "source": [
        "**Import Dataset**"
      ],
      "metadata": {
        "id": "m6n_sZ-d9Goe"
      }
    },
    {
      "cell_type": "code",
      "source": [
        "# Load the dataset\n",
        "stock = pd.read_csv('/content/CIPLA.csv')"
      ],
      "metadata": {
        "id": "EyzJKxEF9086"
      },
      "execution_count": null,
      "outputs": []
    },
    {
      "cell_type": "markdown",
      "source": [
        "**Data Preprocessing**"
      ],
      "metadata": {
        "id": "Ez8-VR5D9Lop"
      }
    },
    {
      "cell_type": "code",
      "source": [
        "stock = stock.drop(['Symbol', 'Series', 'Prev Close', 'VWAP', 'Turnover', 'Trades', 'Deliverable Volume', '%Deliverble'], axis=1)"
      ],
      "metadata": {
        "id": "JJZiTF2m07Ih"
      },
      "execution_count": null,
      "outputs": []
    },
    {
      "cell_type": "code",
      "source": [
        "# Data preprocessing\n",
        "window_size = 50\n",
        "X = []\n",
        "Y = []\n",
        "\n",
        "for i in range(len(stock) - window_size - 1):\n",
        "    first = stock.iloc[i, 5]\n",
        "    temp = [(stock.iloc[i + j, 5] - first) / first for j in range(window_size)]\n",
        "    temp2 = [(stock.iloc[i + window_size, 5] - first) / first]\n",
        "    X.append(temp)\n",
        "    Y.append(temp2)"
      ],
      "metadata": {
        "id": "PQt7z-mL91aB"
      },
      "execution_count": null,
      "outputs": []
    },
    {
      "cell_type": "markdown",
      "source": [
        "**Train-test split**"
      ],
      "metadata": {
        "id": "KbWcSa9L9cph"
      }
    },
    {
      "cell_type": "code",
      "source": [
        "# Train-test split\n",
        "train_X, test_X, train_label, test_label = train_test_split(X, Y, test_size=0.2, shuffle=False)\n",
        "len_t = len(train_X)"
      ],
      "metadata": {
        "id": "EqxsyoLI911p"
      },
      "execution_count": null,
      "outputs": []
    },
    {
      "cell_type": "markdown",
      "source": [
        "**Convert to numpy arrays**"
      ],
      "metadata": {
        "id": "-MAf-Bn99gbz"
      }
    },
    {
      "cell_type": "code",
      "source": [
        "# Convert to numpy arrays\n",
        "train_X = np.array(train_X).reshape(len(train_X), 50, 1)\n",
        "test_X = np.array(test_X).reshape(len(test_X), 50, 1)\n",
        "train_label = np.array(train_label)\n",
        "test_label = np.array(test_label)"
      ],
      "metadata": {
        "id": "9sMLjXaN92V6"
      },
      "execution_count": null,
      "outputs": []
    },
    {
      "cell_type": "markdown",
      "source": [
        "**Model Building**"
      ],
      "metadata": {
        "id": "76xlaYqi-IXY"
      }
    },
    {
      "cell_type": "code",
      "source": [
        "# Model building\n",
        "model = Sequential()\n",
        "# Add Bidirectional LSTM layers\n",
        "model.add(Bidirectional(LSTM(200, return_sequences=True), input_shape=(window_size, 1)))\n",
        "model.add(Bidirectional(LSTM(200, return_sequences=False)))\n",
        "\n",
        "# model summary\n",
        "model.summary()"
      ],
      "metadata": {
        "id": "3FuWtFLC-Le5"
      },
      "execution_count": null,
      "outputs": []
    },
    {
      "cell_type": "markdown",
      "source": [
        "**Compile the model**"
      ],
      "metadata": {
        "id": "CiMLua4X5JW-"
      }
    },
    {
      "cell_type": "code",
      "source": [
        "# Compile the model\n",
        "model.compile(optimizer='RMSprop', loss='mse')"
      ],
      "metadata": {
        "id": "uA23XbD15JW-"
      },
      "execution_count": null,
      "outputs": []
    },
    {
      "cell_type": "markdown",
      "source": [
        "**Defining the EarlyStopping callback**"
      ],
      "metadata": {
        "id": "3q5VSKx95JW-"
      }
    },
    {
      "cell_type": "code",
      "source": [
        "# Define the EarlyStopping callback\n",
        "early_stopping = EarlyStopping(monitor='val_loss', patience=3, verbose=1)"
      ],
      "metadata": {
        "id": "1YG27uqW5JW-"
      },
      "execution_count": null,
      "outputs": []
    },
    {
      "cell_type": "markdown",
      "source": [
        "**Model Training and Evaluation**"
      ],
      "metadata": {
        "id": "dAAjNibH5JW-"
      }
    },
    {
      "cell_type": "code",
      "source": [
        "# Model training\n",
        "model.fit(train_X, train_label, validation_data=(test_X, test_label), epochs=20, batch_size=64, shuffle=False, callbacks=[early_stopping])\n",
        "\n",
        "# Model evaluation\n",
        "loss = model.evaluate(test_X, test_label)\n",
        "print(\"Test Loss:\", loss)"
      ],
      "metadata": {
        "colab": {
          "base_uri": "https://localhost:8080/"
        },
        "outputId": "720aa6ca-cb6c-4746-b81e-74c07425a433",
        "id": "jH01ra3d5JW_"
      },
      "execution_count": null,
      "outputs": [
        {
          "output_type": "stream",
          "name": "stdout",
          "text": [
            "Epoch 1/20\n",
            "75/75 [==============================] - 25s 288ms/step - loss: 0.0047 - val_loss: 0.0012\n",
            "Epoch 2/20\n",
            "75/75 [==============================] - 20s 263ms/step - loss: 0.0024 - val_loss: 0.0010\n",
            "Epoch 3/20\n",
            "75/75 [==============================] - 21s 285ms/step - loss: 0.0021 - val_loss: 9.0846e-04\n",
            "Epoch 4/20\n",
            "75/75 [==============================] - 21s 283ms/step - loss: 0.0018 - val_loss: 8.3434e-04\n",
            "Epoch 5/20\n",
            "75/75 [==============================] - 21s 284ms/step - loss: 0.0015 - val_loss: 7.0812e-04\n",
            "Epoch 6/20\n",
            "75/75 [==============================] - 21s 273ms/step - loss: 0.0015 - val_loss: 6.4141e-04\n",
            "Epoch 7/20\n",
            "75/75 [==============================] - 21s 275ms/step - loss: 0.0015 - val_loss: 6.8494e-04\n",
            "Epoch 8/20\n",
            "75/75 [==============================] - 19s 260ms/step - loss: 0.0014 - val_loss: 6.3213e-04\n",
            "Epoch 9/20\n",
            "75/75 [==============================] - 21s 273ms/step - loss: 0.0012 - val_loss: 9.7553e-04\n",
            "Epoch 10/20\n",
            "75/75 [==============================] - 20s 272ms/step - loss: 0.0013 - val_loss: 5.6634e-04\n",
            "Epoch 11/20\n",
            "75/75 [==============================] - 19s 260ms/step - loss: 0.0012 - val_loss: 5.3017e-04\n",
            "Epoch 12/20\n",
            "75/75 [==============================] - 21s 275ms/step - loss: 0.0012 - val_loss: 5.1224e-04\n",
            "Epoch 13/20\n",
            "75/75 [==============================] - 20s 265ms/step - loss: 0.0012 - val_loss: 7.5807e-04\n",
            "Epoch 14/20\n",
            "75/75 [==============================] - 21s 274ms/step - loss: 0.0012 - val_loss: 5.0583e-04\n",
            "Epoch 15/20\n",
            "75/75 [==============================] - 21s 275ms/step - loss: 0.0012 - val_loss: 6.7932e-04\n",
            "Epoch 16/20\n",
            "75/75 [==============================] - 20s 261ms/step - loss: 0.0011 - val_loss: 7.4302e-04\n",
            "Epoch 17/20\n",
            "75/75 [==============================] - 22s 292ms/step - loss: 0.0011 - val_loss: 9.1840e-04\n",
            "Epoch 17: early stopping\n",
            "38/38 [==============================] - 2s 59ms/step - loss: 9.1840e-04\n",
            "Test Loss: 0.0009184048976749182\n"
          ]
        }
      ]
    },
    {
      "cell_type": "markdown",
      "source": [
        "**Plotting**"
      ],
      "metadata": {
        "id": "OPEHHtJU5JW_"
      }
    },
    {
      "cell_type": "code",
      "source": [
        "predicted = model.predict(test_X)\n",
        "predicted = np.array(predicted[:, 0]).reshape(-1, 1)\n",
        "test_label = np.array(test_label[:, 0]).reshape(-1, 1)\n",
        "\n",
        "for j in range(len_t, len_t + len(test_X)):\n",
        "    temp = stock.iloc[j, 4]\n",
        "    test_label[j - len_t] = test_label[j - len_t] * temp + temp\n",
        "    predicted[j - len_t] = predicted[j - len_t] * temp + temp"
      ],
      "metadata": {
        "id": "TlmA9m2DjLMM"
      },
      "execution_count": null,
      "outputs": []
    },
    {
      "cell_type": "code",
      "execution_count": null,
      "metadata": {
        "colab": {
          "base_uri": "https://localhost:8080/",
          "height": 489
        },
        "outputId": "fbecc057-b486-4eea-cce5-ae5320729a7b",
        "id": "wovQc-Jm5JW_"
      },
      "outputs": [
        {
          "output_type": "stream",
          "name": "stdout",
          "text": [
            "38/38 [==============================] - 3s 61ms/step\n"
          ]
        },
        {
          "output_type": "display_data",
          "data": {
            "text/plain": [
              "<Figure size 640x480 with 1 Axes>"
            ],
            "image/png": "[encoded data removed]"
          },
          "metadata": {}
        }
      ],
      "source": [
        "# Plotting\n",
        "plt.plot(test_label, color = 'red', label = ' Stock Price')\n",
        "plt.plot(predicted, color = 'cyan', label = 'Predicted  Stock Price', linestyle='dashed', linewidth=2)\n",
        "plt.title(' Stock Price Prediction')\n",
        "plt.xlabel('Time')\n",
        "plt.ylabel(' Stock Price')\n",
        "plt.legend()\n",
        "plt.show()\n"
      ]
    },
    {
      "cell_type": "markdown",
      "source": [
        "**Metrics**"
      ],
      "metadata": {
        "id": "tf1tnonG5JW_"
      }
    },
    {
      "cell_type": "code",
      "source": [
        "from sklearn.metrics import mean_squared_error, mean_absolute_error\n",
        "\n",
        "# Calculate MSE\n",
        "mse = mean_squared_error(test_label, predicted)\n",
        "print(\"Mean Squared Error (MSE):\", mse)\n",
        "# Calculate MAE\n",
        "mae = mean_absolute_error(test_label, predicted)\n",
        "print(\"Mean Absolute Error (MAE):\", mae)\n",
        "# Calculate RMSE\n",
        "rmse = np.sqrt(mse)\n",
        "print(\"Root Mean Squared Error (RMSE):\", rmse)\n",
        "def mean_absolute_percentage_error(y_true, y_pred):\n",
        "    y_true, y_pred = np.array(y_true), np.array(y_pred)\n",
        "    return np.mean(np.abs((y_true - y_pred) / y_true)) * 100\n",
        "# Calculate MAPE\n",
        "mape = mean_absolute_percentage_error(test_label, predicted)\n",
        "print(\"Mean Absolute Percentage Error (MAPE):\", mape)"
      ],
      "metadata": {
        "colab": {
          "base_uri": "https://localhost:8080/"
        },
        "outputId": "0a07ca72-d4f2-4ef1-9641-1aa09e715f00",
        "id": "15w6SS5V5JXA"
      },
      "execution_count": null,
      "outputs": [
        {
          "output_type": "stream",
          "name": "stdout",
          "text": [
            "Mean Squared Error (MSE): 614.4108015976484\n",
            "Mean Absolute Error (MAE): 20.02618854022931\n",
            "Root Mean Squared Error (RMSE): 24.78731130231047\n",
            "Mean Absolute Percentage Error (MAPE): 2.264880597156962\n"
          ]
        }
      ]
    }
  ]
}