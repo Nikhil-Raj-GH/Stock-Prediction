{
  "cells": [
    {
      "cell_type": "markdown",
      "metadata": {
        "id": "H-vnL4oy9BQP"
      },
      "source": [
        "**Import Libraries**"
      ]
    },
    {
      "cell_type": "code",
      "execution_count": 1,
      "metadata": {
        "id": "6pEB16gO90kZ"
      },
      "outputs": [],
      "source": [
        "import pandas as pd\n",
        "import numpy as np\n",
        "from sklearn.model_selection import train_test_split\n",
        "from keras.models import Sequential\n",
        "from sklearn import preprocessing\n",
        "from keras.layers import Conv1D,Flatten,MaxPooling1D,Bidirectional,LSTM,Dropout,MaxPool2D\n",
        "from keras.layers import Dense,GlobalAveragePooling2D\n",
        "from keras.callbacks import EarlyStopping\n",
        "import matplotlib.pyplot as plt\n",
        "import os\n",
        "import pprint\n",
        "import tensorflow as tf"
      ]
    },
    {
      "cell_type": "markdown",
      "metadata": {
        "id": "m6n_sZ-d9Goe"
      },
      "source": [
        "**Import Dataset**"
      ]
    },
    {
      "cell_type": "code",
      "execution_count": 2,
      "metadata": {
        "id": "EyzJKxEF9086"
      },
      "outputs": [],
      "source": [
        "# Load the dataset\n",
        "stock = pd.read_csv('/content/CIPLA.csv')"
      ]
    },
    {
      "cell_type": "code",
      "execution_count": 3,
      "metadata": {
        "colab": {
          "base_uri": "https://localhost:8080/"
        },
        "id": "sMkeHtOEi5eD",
        "outputId": "6ea7f444-046a-4100-b920-3f4176c8bbcd"
      },
      "outputs": [
        {
          "output_type": "stream",
          "name": "stdout",
          "text": [
            "<class 'pandas.core.frame.DataFrame'>\n",
            "RangeIndex: 6044 entries, 0 to 6043\n",
            "Data columns (total 15 columns):\n",
            " #   Column              Non-Null Count  Dtype  \n",
            "---  ------              --------------  -----  \n",
            " 0   Date                6044 non-null   object \n",
            " 1   Symbol              6044 non-null   object \n",
            " 2   Series              6044 non-null   object \n",
            " 3   Prev Close          5306 non-null   float64\n",
            " 4   Open                6044 non-null   float64\n",
            " 5   High                6044 non-null   float64\n",
            " 6   Low                 6044 non-null   float64\n",
            " 7   Last                6044 non-null   float64\n",
            " 8   Close               6044 non-null   float64\n",
            " 9   VWAP                5306 non-null   float64\n",
            " 10  Volume              6044 non-null   int64  \n",
            " 11  Turnover            5306 non-null   float64\n",
            " 12  Trades              2456 non-null   float64\n",
            " 13  Deliverable Volume  4792 non-null   float64\n",
            " 14  %Deliverble         4792 non-null   float64\n",
            "dtypes: float64(11), int64(1), object(3)\n",
            "memory usage: 708.4+ KB\n"
          ]
        }
      ],
      "source": [
        "stock.info()"
      ]
    },
    {
      "cell_type": "markdown",
      "metadata": {
        "id": "Ez8-VR5D9Lop"
      },
      "source": [
        "**Data Preprocessing**"
      ]
    },
    {
      "cell_type": "code",
      "execution_count": 4,
      "metadata": {
        "id": "qpgAo2_cYyjd"
      },
      "outputs": [],
      "source": [
        "stock = stock.drop(['Symbol', 'Series', 'Prev Close', 'VWAP', 'Turnover', 'Trades', 'Deliverable Volume', '%Deliverble'], axis=1)"
      ]
    },
    {
      "cell_type": "code",
      "execution_count": 5,
      "metadata": {
        "id": "PQt7z-mL91aB"
      },
      "outputs": [],
      "source": [
        "# Data preprocessing\n",
        "window_size = 50\n",
        "X = []\n",
        "Y = []\n",
        "\n",
        "for i in range(len(stock) - window_size - 1):\n",
        "    first = stock.iloc[i, 5]\n",
        "    temp = [(stock.iloc[i + j, 5] - first) / first for j in range(window_size)]\n",
        "    temp2 = [(stock.iloc[i + window_size, 5] - first) / first]\n",
        "    X.append(np.array(temp).reshape(50, 1))\n",
        "    Y.append(np.array(temp2).reshape(1, 1))"
      ]
    },
    {
      "cell_type": "markdown",
      "metadata": {
        "id": "KbWcSa9L9cph"
      },
      "source": [
        "**Train-test split**"
      ]
    },
    {
      "cell_type": "code",
      "execution_count": 6,
      "metadata": {
        "id": "EqxsyoLI911p"
      },
      "outputs": [],
      "source": [
        "# Train-test split\n",
        "train_X, test_X, train_label, test_label = train_test_split(X, Y, test_size=0.2, shuffle=False)\n",
        "len_t = len(train_X)"
      ]
    },
    {
      "cell_type": "markdown",
      "metadata": {
        "id": "-MAf-Bn99gbz"
      },
      "source": [
        "**Convert to numpy arrays**"
      ]
    },
    {
      "cell_type": "code",
      "execution_count": 7,
      "metadata": {
        "id": "9sMLjXaN92V6"
      },
      "outputs": [],
      "source": [
        "# Convert to numpy arrays\n",
        "train_X = np.array(train_X).reshape(len(train_X), 50, 1)\n",
        "test_X = np.array(test_X).reshape(len(test_X), 50, 1)\n",
        "train_label = np.array(train_label)\n",
        "test_label = np.array(test_label)"
      ]
    },
    {
      "cell_type": "markdown",
      "metadata": {
        "id": "76xlaYqi-IXY"
      },
      "source": [
        "**Model Building**"
      ]
    },
    {
      "cell_type": "code",
      "execution_count": 8,
      "metadata": {
        "colab": {
          "base_uri": "https://localhost:8080/"
        },
        "id": "okeyUQi8iwsW",
        "outputId": "2286085b-12ab-4b20-b472-db780c17c64c"
      },
      "outputs": [
        {
          "output_type": "stream",
          "name": "stdout",
          "text": [
            "Model: \"sequential\"\n",
            "_________________________________________________________________\n",
            " Layer (type)                Output Shape              Param #   \n",
            "=================================================================\n",
            " conv1d (Conv1D)             (None, 48, 64)            256       \n",
            "                                                                 \n",
            " max_pooling1d (MaxPooling1  (None, 24, 64)            0         \n",
            " D)                                                              \n",
            "                                                                 \n",
            " dropout (Dropout)           (None, 24, 64)            0         \n",
            "                                                                 \n",
            " bidirectional (Bidirection  (None, 24, 100)           46000     \n",
            " al)                                                             \n",
            "                                                                 \n",
            " dropout_1 (Dropout)         (None, 24, 100)           0         \n",
            "                                                                 \n",
            " flatten (Flatten)           (None, 2400)              0         \n",
            "                                                                 \n",
            " dense (Dense)               (None, 1)                 2401      \n",
            "                                                                 \n",
            "=================================================================\n",
            "Total params: 48657 (190.07 KB)\n",
            "Trainable params: 48657 (190.07 KB)\n",
            "Non-trainable params: 0 (0.00 Byte)\n",
            "_________________________________________________________________\n"
          ]
        }
      ],
      "source": [
        "model = Sequential()\n",
        "model.add(Conv1D(filters=64, kernel_size=3, activation='relu', input_shape=(window_size, 1)))\n",
        "model.add(MaxPooling1D(pool_size=2))\n",
        "model.add(Dropout(0.25))\n",
        "model.add(Bidirectional(LSTM(50, return_sequences=True)))\n",
        "model.add(Dropout(0.25))\n",
        "model.add(Flatten())\n",
        "model.add(Dense(1))\n",
        "model.summary()"
      ]
    },
    {
      "cell_type": "code",
      "execution_count": 9,
      "metadata": {
        "colab": {
          "base_uri": "https://localhost:8080/"
        },
        "id": "3FuWtFLC-Le5",
        "outputId": "a4c9a1a2-3742-4eae-9424-b5c680c7f4ac"
      },
      "outputs": [
        {
          "output_type": "stream",
          "name": "stdout",
          "text": [
            "Model: \"sequential_2\"\n",
            "_________________________________________________________________\n",
            " Layer (type)                Output Shape              Param #   \n",
            "=================================================================\n",
            " conv1d_1 (Conv1D)           (None, 48, 64)            256       \n",
            "                                                                 \n",
            " max_pooling1d_1 (MaxPoolin  (None, 24, 64)            0         \n",
            " g1D)                                                            \n",
            "                                                                 \n",
            " bidirectional_1 (Bidirecti  (None, 24, 100)           46000     \n",
            " onal)                                                           \n",
            "                                                                 \n",
            " flatten_1 (Flatten)         (None, 2400)              0         \n",
            "                                                                 \n",
            " dense_1 (Dense)             (None, 1)                 2401      \n",
            "                                                                 \n",
            "=================================================================\n",
            "Total params: 48657 (190.07 KB)\n",
            "Trainable params: 48657 (190.07 KB)\n",
            "Non-trainable params: 0 (0.00 Byte)\n",
            "_________________________________________________________________\n"
          ]
        }
      ],
      "source": [
        "# Model building\n",
        "model = Sequential()\n",
        "\n",
        "#add model layers\n",
        "model = Sequential()\n",
        "# Add Conv1D layer\n",
        "model.add(Conv1D(filters=64, kernel_size=3, activation='relu', input_shape=(window_size, 1)))\n",
        "model.add(MaxPooling1D(pool_size=2))\n",
        "# Add Bidirectional LSTM layer\n",
        "model.add(Bidirectional(LSTM(50, return_sequences=True)))\n",
        "# Flatten the output\n",
        "model.add(Flatten())\n",
        "# Add Dense output layer\n",
        "model.add(Dense(1))\n",
        "\n",
        "# model summary\n",
        "model.summary()"
      ]
    },
    {
      "cell_type": "markdown",
      "metadata": {
        "id": "gD_dHheb9kA6"
      },
      "source": [
        "**Compile the model**"
      ]
    },
    {
      "cell_type": "code",
      "execution_count": 10,
      "metadata": {
        "id": "gBOtjc0A927a"
      },
      "outputs": [],
      "source": [
        "# Compile the model\n",
        "model.compile(optimizer='RMSprop', loss='mse')"
      ]
    },
    {
      "cell_type": "markdown",
      "metadata": {
        "id": "jSbGWZK5PB74"
      },
      "source": [
        "**Defining the EarlyStopping callback**"
      ]
    },
    {
      "cell_type": "code",
      "execution_count": 11,
      "metadata": {
        "id": "VZGFSY-mPCfG"
      },
      "outputs": [],
      "source": [
        "# Define the EarlyStopping callback\n",
        "early_stopping = EarlyStopping(monitor='val_loss', patience=3, verbose=1)"
      ]
    },
    {
      "cell_type": "markdown",
      "metadata": {
        "id": "DWPYGDEYP2nm"
      },
      "source": [
        "**Model Training and Evaluation**"
      ]
    },
    {
      "cell_type": "code",
      "execution_count": 12,
      "metadata": {
        "colab": {
          "base_uri": "https://localhost:8080/"
        },
        "id": "q-JIxVwHP2nn",
        "outputId": "f192e9dc-25a0-4bf1-fdc8-a8c5c337e608"
      },
      "outputs": [
        {
          "output_type": "stream",
          "name": "stdout",
          "text": [
            "Epoch 1/20\n",
            "75/75 [==============================] - 10s 40ms/step - loss: 0.0101 - val_loss: 0.0028\n",
            "Epoch 2/20\n",
            "75/75 [==============================] - 1s 15ms/step - loss: 0.0054 - val_loss: 0.0019\n",
            "Epoch 3/20\n",
            "75/75 [==============================] - 1s 14ms/step - loss: 0.0043 - val_loss: 0.0016\n",
            "Epoch 4/20\n",
            "75/75 [==============================] - 1s 20ms/step - loss: 0.0036 - val_loss: 0.0014\n",
            "Epoch 5/20\n",
            "75/75 [==============================] - 2s 22ms/step - loss: 0.0032 - val_loss: 0.0013\n",
            "Epoch 6/20\n",
            "75/75 [==============================] - 1s 16ms/step - loss: 0.0029 - val_loss: 0.0012\n",
            "Epoch 7/20\n",
            "75/75 [==============================] - 1s 8ms/step - loss: 0.0027 - val_loss: 0.0011\n",
            "Epoch 8/20\n",
            "75/75 [==============================] - 1s 8ms/step - loss: 0.0025 - val_loss: 0.0011\n",
            "Epoch 9/20\n",
            "75/75 [==============================] - 1s 8ms/step - loss: 0.0023 - val_loss: 9.9766e-04\n",
            "Epoch 10/20\n",
            "75/75 [==============================] - 1s 8ms/step - loss: 0.0022 - val_loss: 9.5424e-04\n",
            "Epoch 11/20\n",
            "75/75 [==============================] - 1s 9ms/step - loss: 0.0021 - val_loss: 9.1059e-04\n",
            "Epoch 12/20\n",
            "75/75 [==============================] - 1s 8ms/step - loss: 0.0020 - val_loss: 8.6806e-04\n",
            "Epoch 13/20\n",
            "75/75 [==============================] - 1s 8ms/step - loss: 0.0019 - val_loss: 8.3222e-04\n",
            "Epoch 14/20\n",
            "75/75 [==============================] - 1s 8ms/step - loss: 0.0018 - val_loss: 8.0429e-04\n",
            "Epoch 15/20\n",
            "75/75 [==============================] - 1s 8ms/step - loss: 0.0017 - val_loss: 7.7713e-04\n",
            "Epoch 16/20\n",
            "75/75 [==============================] - 1s 8ms/step - loss: 0.0017 - val_loss: 7.5678e-04\n",
            "Epoch 17/20\n",
            "75/75 [==============================] - 1s 8ms/step - loss: 0.0016 - val_loss: 7.3865e-04\n",
            "Epoch 18/20\n",
            "75/75 [==============================] - 1s 8ms/step - loss: 0.0015 - val_loss: 7.2611e-04\n",
            "Epoch 19/20\n",
            "75/75 [==============================] - 1s 8ms/step - loss: 0.0015 - val_loss: 7.0998e-04\n",
            "Epoch 20/20\n",
            "75/75 [==============================] - 1s 8ms/step - loss: 0.0015 - val_loss: 6.9876e-04\n",
            "38/38 [==============================] - 0s 6ms/step - loss: 6.9876e-04\n",
            "Test Loss: 0.0006987590459175408\n"
          ]
        }
      ],
      "source": [
        "# Model training\n",
        "model.fit(train_X, train_label, validation_data=(test_X, test_label), epochs=20, batch_size=64, shuffle=False, callbacks=[early_stopping])\n",
        "\n",
        "# Model evaluation\n",
        "loss = model.evaluate(test_X, test_label)\n",
        "print(\"Test Loss:\", loss)"
      ]
    },
    {
      "cell_type": "markdown",
      "metadata": {
        "id": "dvWkU-NQ9vUZ"
      },
      "source": [
        "**Plotting**"
      ]
    },
    {
      "cell_type": "code",
      "execution_count": 13,
      "metadata": {
        "colab": {
          "base_uri": "https://localhost:8080/"
        },
        "id": "cg2TtAMGmAhC",
        "outputId": "e0558dda-5d6c-4e2a-a59c-496400800629"
      },
      "outputs": [
        {
          "output_type": "stream",
          "name": "stdout",
          "text": [
            "38/38 [==============================] - 1s 4ms/step\n"
          ]
        }
      ],
      "source": [
        "# Plotting\n",
        "predicted  = model.predict(test_X)\n",
        "test_label = (test_label[:,0])\n",
        "predicted = np.array(predicted[:,0]).reshape(-1,1)\n",
        "for j in range(len_t , len_t + len(test_X)):\n",
        "    temp =stock.iloc[j,4]\n",
        "    test_label[j - len_t] = test_label[j - len_t] * temp + temp\n",
        "    predicted[j - len_t] = predicted[j - len_t] * temp + temp"
      ]
    },
    {
      "cell_type": "code",
      "execution_count": 14,
      "metadata": {
        "colab": {
          "base_uri": "https://localhost:8080/",
          "height": 472
        },
        "id": "9RRhr3_r5iE_",
        "outputId": "dac048cf-0836-445e-fbfc-aae735871455"
      },
      "outputs": [
        {
          "output_type": "display_data",
          "data": {
            "text/plain": [
              "<Figure size 640x480 with 1 Axes>"
            ],
            "image/png": "[encoded data removed]"
          },
          "metadata": {}
        }
      ],
      "source": [
        "# Plotting\n",
        "plt.plot(test_label, color = 'red', label = ' Stock Price')\n",
        "plt.plot(predicted, color = 'cyan', label = 'Predicted  Stock Price', linestyle='dashed', linewidth=2)\n",
        "plt.title(' Stock Price Prediction')\n",
        "plt.xlabel('Time')\n",
        "plt.ylabel(' Stock Price')\n",
        "plt.legend()\n",
        "plt.show()"
      ]
    },
    {
      "cell_type": "markdown",
      "metadata": {
        "id": "LTHFed7s8_fK"
      },
      "source": [
        "**Metrics**"
      ]
    },
    {
      "cell_type": "code",
      "execution_count": 15,
      "metadata": {
        "colab": {
          "base_uri": "https://localhost:8080/"
        },
        "id": "9hZkGezT564V",
        "outputId": "bb225d62-b454-4e5b-db34-b9578dda3d40"
      },
      "outputs": [
        {
          "output_type": "stream",
          "name": "stdout",
          "text": [
            "Mean Squared Error (MSE): 335.9101847255399\n",
            "Mean Absolute Error (MAE): 12.787044337283353\n",
            "Root Mean Squared Error (RMSE): 18.327852703618607\n",
            "Mean Absolute Percentage Error (MAPE): 1.539707769016962\n"
          ]
        }
      ],
      "source": [
        "from sklearn.metrics import mean_squared_error, mean_absolute_error\n",
        "\n",
        "# Calculate MSE\n",
        "mse = mean_squared_error(test_label, predicted)\n",
        "print(\"Mean Squared Error (MSE):\", mse)\n",
        "# Calculate MAE\n",
        "mae = mean_absolute_error(test_label, predicted)\n",
        "print(\"Mean Absolute Error (MAE):\", mae)\n",
        "# Calculate RMSE\n",
        "rmse = np.sqrt(mse)\n",
        "print(\"Root Mean Squared Error (RMSE):\", rmse)\n",
        "def mean_absolute_percentage_error(y_true, y_pred):\n",
        "    y_true, y_pred = np.array(y_true), np.array(y_pred)\n",
        "    return np.mean(np.abs((y_true - y_pred) / y_true)) * 100\n",
        "# Calculate MAPE\n",
        "mape = mean_absolute_percentage_error(test_label, predicted)\n",
        "print(\"Mean Absolute Percentage Error (MAPE):\", mape)"
      ]
    }
  ],
  "metadata": {
    "accelerator": "GPU",
    "colab": {
      "gpuType": "T4",
      "provenance": []
    },
    "kernelspec": {
      "display_name": "Python 3",
      "name": "python3"
    },
    "language_info": {
      "name": "python"
    }
  },
  "nbformat": 4,
  "nbformat_minor": 0
}