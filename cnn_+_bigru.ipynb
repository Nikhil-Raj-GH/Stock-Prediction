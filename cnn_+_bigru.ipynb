{
  "nbformat": 4,
  "nbformat_minor": 0,
  "metadata": {
    "colab": {
      "provenance": [],
      "gpuType": "T4"
    },
    "kernelspec": {
      "name": "python3",
      "display_name": "Python 3"
    },
    "language_info": {
      "name": "python"
    },
    "accelerator": "GPU"
  },
  "cells": [
    {
      "cell_type": "markdown",
      "source": [
        "**Import Libraries**"
      ],
      "metadata": {
        "id": "H-vnL4oy9BQP"
      }
    },
    {
      "cell_type": "code",
      "source": [
        "import pandas as pd\n",
        "import numpy as np\n",
        "from sklearn.model_selection import train_test_split\n",
        "from keras.models import Sequential\n",
        "from sklearn import preprocessing\n",
        "from keras.layers import Conv1D, Flatten, MaxPooling1D, GRU, Dropout, Bidirectional\n",
        "from keras.layers import Dense\n",
        "from keras.callbacks import EarlyStopping\n",
        "import matplotlib.pyplot as plt"
      ],
      "metadata": {
        "id": "6pEB16gO90kZ"
      },
      "execution_count": 8,
      "outputs": []
    },
    {
      "cell_type": "markdown",
      "source": [
        "**Import Dataset**"
      ],
      "metadata": {
        "id": "m6n_sZ-d9Goe"
      }
    },
    {
      "cell_type": "code",
      "source": [
        "# Load the dataset\n",
        "stock = pd.read_csv('/content/CIPLA.csv')"
      ],
      "metadata": {
        "id": "EyzJKxEF9086"
      },
      "execution_count": 2,
      "outputs": []
    },
    {
      "cell_type": "markdown",
      "source": [
        "**Data Preprocessing**"
      ],
      "metadata": {
        "id": "Ez8-VR5D9Lop"
      }
    },
    {
      "cell_type": "code",
      "source": [
        "stock = stock.drop(['Symbol', 'Series', 'Prev Close', 'VWAP', 'Turnover', 'Trades', 'Deliverable Volume', '%Deliverble'], axis=1)\n",
        "\n",
        "# Data preprocessing\n",
        "window_size = 50\n",
        "X = []\n",
        "Y = []\n",
        "\n",
        "for i in range(len(stock) - window_size - 1):\n",
        "    first = stock.iloc[i, 4]\n",
        "    temp = [(stock.iloc[i + j, 4] - first) / first for j in range(window_size)]\n",
        "    temp2 = [(stock.iloc[i + window_size, 4] - first) / first]\n",
        "    X.append(np.array(temp).reshape(50, 1))\n",
        "    Y.append(np.array(temp2).reshape(1, 1))"
      ],
      "metadata": {
        "id": "PQt7z-mL91aB"
      },
      "execution_count": 3,
      "outputs": []
    },
    {
      "cell_type": "markdown",
      "source": [
        "**Train-test split**"
      ],
      "metadata": {
        "id": "KbWcSa9L9cph"
      }
    },
    {
      "cell_type": "code",
      "source": [
        "# Train-test split\n",
        "train_X, test_X, train_label, test_label = train_test_split(X, Y, test_size=0.2, shuffle=False)\n",
        "len_t = len(train_X)"
      ],
      "metadata": {
        "id": "EqxsyoLI911p"
      },
      "execution_count": 4,
      "outputs": []
    },
    {
      "cell_type": "markdown",
      "source": [
        "**Convert to numpy arrays**"
      ],
      "metadata": {
        "id": "-MAf-Bn99gbz"
      }
    },
    {
      "cell_type": "code",
      "source": [
        "# Convert to numpy arrays\n",
        "train_X = np.array(train_X).reshape(len(train_X), 50, 1)\n",
        "test_X = np.array(test_X).reshape(len(test_X), 50, 1)\n",
        "train_label = np.array(train_label)\n",
        "test_label = np.array(test_label)"
      ],
      "metadata": {
        "id": "9sMLjXaN92V6"
      },
      "execution_count": 5,
      "outputs": []
    },
    {
      "cell_type": "markdown",
      "source": [
        "**Model Building**"
      ],
      "metadata": {
        "id": "76xlaYqi-IXY"
      }
    },
    {
      "cell_type": "code",
      "source": [
        "# Model building\n",
        "model = Sequential()\n",
        "# Add CNN layer for feature extraction\n",
        "model.add(Conv1D(filters=64, kernel_size=3, activation='relu', input_shape=(window_size, 1)))\n",
        "model.add(MaxPooling1D(pool_size=2))\n",
        "# Add a BiGRU layer for sequence modeling\n",
        "model.add(Bidirectional(GRU(200, return_sequences=True)))\n",
        "# Add a Flatten layer to flatten the output of the BiGRU layer\n",
        "model.add(Flatten())\n",
        "# Add Dense layer for regression\n",
        "model.add(Dense(1, activation='linear'))\n",
        "\n",
        "# model summary\n",
        "model.summary()"
      ],
      "metadata": {
        "id": "3FuWtFLC-Le5",
        "colab": {
          "base_uri": "https://localhost:8080/"
        },
        "outputId": "6f115bdd-11ad-4eff-a75d-fa7b6bc523ac"
      },
      "execution_count": 9,
      "outputs": [
        {
          "output_type": "stream",
          "name": "stdout",
          "text": [
            "Model: \"sequential_2\"\n",
            "_________________________________________________________________\n",
            " Layer (type)                Output Shape              Param #   \n",
            "=================================================================\n",
            " conv1d_2 (Conv1D)           (None, 48, 64)            256       \n",
            "                                                                 \n",
            " max_pooling1d_2 (MaxPoolin  (None, 24, 64)            0         \n",
            " g1D)                                                            \n",
            "                                                                 \n",
            " bidirectional (Bidirection  (None, 24, 400)           319200    \n",
            " al)                                                             \n",
            "                                                                 \n",
            " flatten (Flatten)           (None, 9600)              0         \n",
            "                                                                 \n",
            " dense (Dense)               (None, 1)                 9601      \n",
            "                                                                 \n",
            "=================================================================\n",
            "Total params: 329057 (1.26 MB)\n",
            "Trainable params: 329057 (1.26 MB)\n",
            "Non-trainable params: 0 (0.00 Byte)\n",
            "_________________________________________________________________\n"
          ]
        }
      ]
    },
    {
      "cell_type": "markdown",
      "source": [
        "**Compile the model**"
      ],
      "metadata": {
        "id": "gD_dHheb9kA6"
      }
    },
    {
      "cell_type": "code",
      "source": [
        "# Compile the model\n",
        "model.compile(optimizer='RMSprop', loss='mse')"
      ],
      "metadata": {
        "id": "gBOtjc0A927a"
      },
      "execution_count": 10,
      "outputs": []
    },
    {
      "cell_type": "markdown",
      "source": [
        "**Defining the EarlyStopping callback**"
      ],
      "metadata": {
        "id": "jSbGWZK5PB74"
      }
    },
    {
      "cell_type": "code",
      "source": [
        "# Define the EarlyStopping callback\n",
        "early_stopping = EarlyStopping(monitor='val_loss', patience=3, verbose=1)"
      ],
      "metadata": {
        "id": "VZGFSY-mPCfG"
      },
      "execution_count": 11,
      "outputs": []
    },
    {
      "cell_type": "markdown",
      "source": [
        "**Model Training and Evaluation**"
      ],
      "metadata": {
        "id": "6y3j1G4e9rWj"
      }
    },
    {
      "cell_type": "code",
      "source": [
        "# Model training\n",
        "model.fit(train_X, train_label, validation_data=(test_X, test_label), epochs=20, batch_size=64, shuffle=False, callbacks=[early_stopping])\n",
        "\n",
        "# Model evaluation\n",
        "loss = model.evaluate(test_X, test_label)\n",
        "print(\"Test Loss:\", loss)"
      ],
      "metadata": {
        "id": "Fu2-Ycre93SJ",
        "colab": {
          "base_uri": "https://localhost:8080/"
        },
        "outputId": "5f593299-288f-4ae4-f59e-ffffe6c2beac"
      },
      "execution_count": 12,
      "outputs": [
        {
          "output_type": "stream",
          "name": "stdout",
          "text": [
            "Epoch 1/20\n",
            "75/75 [==============================] - 7s 19ms/step - loss: 0.0106 - val_loss: 0.0019\n",
            "Epoch 2/20\n",
            "75/75 [==============================] - 1s 8ms/step - loss: 0.0056 - val_loss: 0.0014\n",
            "Epoch 3/20\n",
            "75/75 [==============================] - 1s 11ms/step - loss: 0.0042 - val_loss: 0.0012\n",
            "Epoch 4/20\n",
            "75/75 [==============================] - 1s 11ms/step - loss: 0.0034 - val_loss: 0.0011\n",
            "Epoch 5/20\n",
            "75/75 [==============================] - 1s 11ms/step - loss: 0.0028 - val_loss: 9.5545e-04\n",
            "Epoch 6/20\n",
            "75/75 [==============================] - 1s 9ms/step - loss: 0.0025 - val_loss: 8.6334e-04\n",
            "Epoch 7/20\n",
            "75/75 [==============================] - 1s 8ms/step - loss: 0.0023 - val_loss: 7.9931e-04\n",
            "Epoch 8/20\n",
            "75/75 [==============================] - 1s 8ms/step - loss: 0.0022 - val_loss: 7.6201e-04\n",
            "Epoch 9/20\n",
            "75/75 [==============================] - 1s 8ms/step - loss: 0.0020 - val_loss: 7.3412e-04\n",
            "Epoch 10/20\n",
            "75/75 [==============================] - 1s 8ms/step - loss: 0.0019 - val_loss: 7.4119e-04\n",
            "Epoch 11/20\n",
            "75/75 [==============================] - 1s 8ms/step - loss: 0.0018 - val_loss: 7.3665e-04\n",
            "Epoch 12/20\n",
            "75/75 [==============================] - 1s 9ms/step - loss: 0.0017 - val_loss: 7.2666e-04\n",
            "Epoch 13/20\n",
            "75/75 [==============================] - 1s 8ms/step - loss: 0.0017 - val_loss: 6.9318e-04\n",
            "Epoch 14/20\n",
            "75/75 [==============================] - 1s 8ms/step - loss: 0.0017 - val_loss: 6.7712e-04\n",
            "Epoch 15/20\n",
            "75/75 [==============================] - 1s 8ms/step - loss: 0.0017 - val_loss: 6.4836e-04\n",
            "Epoch 16/20\n",
            "75/75 [==============================] - 1s 8ms/step - loss: 0.0017 - val_loss: 6.4000e-04\n",
            "Epoch 17/20\n",
            "75/75 [==============================] - 1s 8ms/step - loss: 0.0017 - val_loss: 6.3359e-04\n",
            "Epoch 18/20\n",
            "75/75 [==============================] - 1s 8ms/step - loss: 0.0016 - val_loss: 6.3167e-04\n",
            "Epoch 19/20\n",
            "75/75 [==============================] - 1s 8ms/step - loss: 0.0016 - val_loss: 6.2220e-04\n",
            "Epoch 20/20\n",
            "75/75 [==============================] - 1s 8ms/step - loss: 0.0016 - val_loss: 6.2524e-04\n",
            "38/38 [==============================] - 0s 5ms/step - loss: 6.2524e-04\n",
            "Test Loss: 0.0006252352031879127\n"
          ]
        }
      ]
    },
    {
      "cell_type": "markdown",
      "source": [
        "**Plotting**"
      ],
      "metadata": {
        "id": "dvWkU-NQ9vUZ"
      }
    },
    {
      "cell_type": "code",
      "execution_count": null,
      "metadata": {
        "id": "9RRhr3_r5iE_"
      },
      "outputs": [],
      "source": [
        "# Plotting\n",
        "predicted = model.predict(test_X)\n",
        "predicted = np.array(predicted[:, 0]).reshape(-1, 1)\n",
        "test_label = np.array(test_label[:, 0]).reshape(-1, 1)\n",
        "\n",
        "for j in range(len_t, len_t + len(test_X)):\n",
        "    temp = stock.iloc[j, 4]\n",
        "    test_label[j - len_t] = test_label[j - len_t] * temp + temp\n",
        "    predicted[j - len_t] = predicted[j - len_t] * temp + temp\n",
        "\n"
      ]
    },
    {
      "cell_type": "code",
      "source": [
        "# Plotting\n",
        "plt.plot(test_label, color = 'red', label = ' Stock Price')\n",
        "plt.plot(predicted, color = 'cyan', label = 'Predicted  Stock Price', linestyle='dashed', linewidth=2)\n",
        "plt.title(' Stock Price Prediction')\n",
        "plt.xlabel('Time')\n",
        "plt.ylabel(' Stock Price')\n",
        "plt.legend()\n",
        "plt.show()"
      ],
      "metadata": {
        "colab": {
          "base_uri": "https://localhost:8080/",
          "height": 472
        },
        "id": "FO-seCPndhc4",
        "outputId": "d722db8c-def9-4e96-8c5c-d0d73a095773"
      },
      "execution_count": 15,
      "outputs": [
        {
          "output_type": "display_data",
          "data": {
            "text/plain": [
              "<Figure size 640x480 with 1 Axes>"
            ],
            "image/png": "[encoded data removed]"
          },
          "metadata": {}
        }
      ]
    },
    {
      "cell_type": "markdown",
      "source": [
        "**Metrics**"
      ],
      "metadata": {
        "id": "LTHFed7s8_fK"
      }
    },
    {
      "cell_type": "code",
      "source": [
        "from sklearn.metrics import mean_squared_error, mean_absolute_error\n",
        "\n",
        "# Calculate MSE\n",
        "mse = mean_squared_error(test_label, predicted)\n",
        "print(\"Mean Squared Error (MSE):\", mse)\n",
        "# Calculate MAE\n",
        "mae = mean_absolute_error(test_label, predicted)\n",
        "print(\"Mean Absolute Error (MAE):\", mae)\n",
        "# Calculate RMSE\n",
        "rmse = np.sqrt(mse)\n",
        "print(\"Root Mean Squared Error (RMSE):\", rmse)\n",
        "def mean_absolute_percentage_error(y_true, y_pred):\n",
        "    y_true, y_pred = np.array(y_true), np.array(y_pred)\n",
        "    return np.mean(np.abs((y_true - y_pred) / y_true)) * 100\n",
        "# Calculate MAPE\n",
        "mape = mean_absolute_percentage_error(test_label, predicted)\n",
        "print(\"Mean Absolute Percentage Error (MAPE):\", mape)"
      ],
      "metadata": {
        "colab": {
          "base_uri": "https://localhost:8080/"
        },
        "id": "9hZkGezT564V",
        "outputId": "ff5fb327-b5db-4469-e401-bdb2061f699f"
      },
      "execution_count": 16,
      "outputs": [
        {
          "output_type": "stream",
          "name": "stdout",
          "text": [
            "Mean Squared Error (MSE): 303.78945176834605\n",
            "Mean Absolute Error (MAE): 12.02092288936744\n",
            "Root Mean Squared Error (RMSE): 17.42955684371654\n",
            "Mean Absolute Percentage Error (MAPE): 1.4459865372761365\n"
          ]
        }
      ]
    }
  ]
}